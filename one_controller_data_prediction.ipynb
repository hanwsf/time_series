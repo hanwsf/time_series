{
 "cells": [
  {
   "cell_type": "code",
   "execution_count": 1,
   "metadata": {
    "collapsed": false
   },
   "outputs": [
    {
     "name": "stderr",
     "output_type": "stream",
     "text": [
      "Using TensorFlow backend.\n"
     ]
    }
   ],
   "source": [
    "import tensorflow as tf\n",
    "import numpy as np\n",
    "import math\n",
    "from keras.models import Sequential\n",
    "from keras.layers import Dense\n",
    "from keras.layers import LSTM\n",
    "from sklearn.preprocessing import MinMaxScaler\n",
    "from sklearn.preprocessing import Normalizer\n",
    "from sklearn.metrics import mean_squared_error\n",
    "import pandas as pd\n",
    "from matplotlib import pylab as plt"
   ]
  },
  {
   "cell_type": "code",
   "execution_count": 2,
   "metadata": {
    "collapsed": true
   },
   "outputs": [],
   "source": [
    "frame = pd.read_csv('GHL/03_Lev_fault_Temp_corr_seed_19_vars_23.csv', header=0, sep=',')"
   ]
  },
  {
   "cell_type": "code",
   "execution_count": 3,
   "metadata": {
    "collapsed": false
   },
   "outputs": [
    {
     "data": {
      "text/html": [
       "<div>\n",
       "<table border=\"1\" class=\"dataframe\">\n",
       "  <thead>\n",
       "    <tr style=\"text-align: right;\">\n",
       "      <th></th>\n",
       "      <th>Time</th>\n",
       "      <th>RT_level_ini</th>\n",
       "      <th>DANGER</th>\n",
       "      <th>FAULT</th>\n",
       "      <th>RT_temperature.T</th>\n",
       "      <th>C_temperature.T</th>\n",
       "      <th>RT_level</th>\n",
       "      <th>out_valve_act</th>\n",
       "      <th>dT_rand</th>\n",
       "      <th>inv_valve_act</th>\n",
       "      <th>...</th>\n",
       "      <th>boundary.m_flow_in</th>\n",
       "      <th>dir_valve_act</th>\n",
       "      <th>dt_rand</th>\n",
       "      <th>C_level</th>\n",
       "      <th>HT_temperature.T</th>\n",
       "      <th>heater_act</th>\n",
       "      <th>HT_level</th>\n",
       "      <th>ATTACK</th>\n",
       "      <th>limiter1.y</th>\n",
       "      <th>dL_rand</th>\n",
       "    </tr>\n",
       "  </thead>\n",
       "  <tbody>\n",
       "    <tr>\n",
       "      <th>0</th>\n",
       "      <td>0.0</td>\n",
       "      <td>0.0</td>\n",
       "      <td>0.0</td>\n",
       "      <td>0.0</td>\n",
       "      <td>283.149994</td>\n",
       "      <td>273.149994</td>\n",
       "      <td>0.5</td>\n",
       "      <td>0.0</td>\n",
       "      <td>0.0</td>\n",
       "      <td>0.0</td>\n",
       "      <td>...</td>\n",
       "      <td>0.0</td>\n",
       "      <td>0.0</td>\n",
       "      <td>0.0</td>\n",
       "      <td>0.01</td>\n",
       "      <td>283.149994</td>\n",
       "      <td>0.0</td>\n",
       "      <td>0.1</td>\n",
       "      <td>0.0</td>\n",
       "      <td>100.0</td>\n",
       "      <td>0.0</td>\n",
       "    </tr>\n",
       "    <tr>\n",
       "      <th>1</th>\n",
       "      <td>1.0</td>\n",
       "      <td>0.0</td>\n",
       "      <td>0.0</td>\n",
       "      <td>0.0</td>\n",
       "      <td>283.149994</td>\n",
       "      <td>273.149994</td>\n",
       "      <td>0.5</td>\n",
       "      <td>0.0</td>\n",
       "      <td>0.0</td>\n",
       "      <td>0.0</td>\n",
       "      <td>...</td>\n",
       "      <td>0.0</td>\n",
       "      <td>0.0</td>\n",
       "      <td>0.0</td>\n",
       "      <td>0.01</td>\n",
       "      <td>283.163330</td>\n",
       "      <td>0.0</td>\n",
       "      <td>0.1</td>\n",
       "      <td>0.0</td>\n",
       "      <td>100.0</td>\n",
       "      <td>0.0</td>\n",
       "    </tr>\n",
       "    <tr>\n",
       "      <th>2</th>\n",
       "      <td>2.0</td>\n",
       "      <td>0.0</td>\n",
       "      <td>0.0</td>\n",
       "      <td>0.0</td>\n",
       "      <td>283.149994</td>\n",
       "      <td>273.149994</td>\n",
       "      <td>0.5</td>\n",
       "      <td>0.0</td>\n",
       "      <td>0.0</td>\n",
       "      <td>0.0</td>\n",
       "      <td>...</td>\n",
       "      <td>0.0</td>\n",
       "      <td>0.0</td>\n",
       "      <td>0.0</td>\n",
       "      <td>0.01</td>\n",
       "      <td>283.176666</td>\n",
       "      <td>0.0</td>\n",
       "      <td>0.1</td>\n",
       "      <td>0.0</td>\n",
       "      <td>100.0</td>\n",
       "      <td>0.0</td>\n",
       "    </tr>\n",
       "    <tr>\n",
       "      <th>3</th>\n",
       "      <td>3.0</td>\n",
       "      <td>0.0</td>\n",
       "      <td>0.0</td>\n",
       "      <td>0.0</td>\n",
       "      <td>283.149994</td>\n",
       "      <td>273.149994</td>\n",
       "      <td>0.5</td>\n",
       "      <td>0.0</td>\n",
       "      <td>0.0</td>\n",
       "      <td>0.0</td>\n",
       "      <td>...</td>\n",
       "      <td>0.0</td>\n",
       "      <td>0.0</td>\n",
       "      <td>0.0</td>\n",
       "      <td>0.01</td>\n",
       "      <td>283.189972</td>\n",
       "      <td>0.0</td>\n",
       "      <td>0.1</td>\n",
       "      <td>0.0</td>\n",
       "      <td>100.0</td>\n",
       "      <td>0.0</td>\n",
       "    </tr>\n",
       "    <tr>\n",
       "      <th>4</th>\n",
       "      <td>4.0</td>\n",
       "      <td>0.0</td>\n",
       "      <td>0.0</td>\n",
       "      <td>0.0</td>\n",
       "      <td>283.149994</td>\n",
       "      <td>273.149994</td>\n",
       "      <td>0.5</td>\n",
       "      <td>0.0</td>\n",
       "      <td>0.0</td>\n",
       "      <td>0.0</td>\n",
       "      <td>...</td>\n",
       "      <td>0.0</td>\n",
       "      <td>0.0</td>\n",
       "      <td>0.0</td>\n",
       "      <td>0.01</td>\n",
       "      <td>283.203247</td>\n",
       "      <td>0.0</td>\n",
       "      <td>0.1</td>\n",
       "      <td>0.0</td>\n",
       "      <td>100.0</td>\n",
       "      <td>0.0</td>\n",
       "    </tr>\n",
       "  </tbody>\n",
       "</table>\n",
       "<p>5 rows × 23 columns</p>\n",
       "</div>"
      ],
      "text/plain": [
       "   Time  RT_level_ini  DANGER  FAULT  RT_temperature.T  C_temperature.T  \\\n",
       "0   0.0           0.0     0.0    0.0        283.149994       273.149994   \n",
       "1   1.0           0.0     0.0    0.0        283.149994       273.149994   \n",
       "2   2.0           0.0     0.0    0.0        283.149994       273.149994   \n",
       "3   3.0           0.0     0.0    0.0        283.149994       273.149994   \n",
       "4   4.0           0.0     0.0    0.0        283.149994       273.149994   \n",
       "\n",
       "   RT_level  out_valve_act  dT_rand  inv_valve_act   ...     \\\n",
       "0       0.5            0.0      0.0            0.0   ...      \n",
       "1       0.5            0.0      0.0            0.0   ...      \n",
       "2       0.5            0.0      0.0            0.0   ...      \n",
       "3       0.5            0.0      0.0            0.0   ...      \n",
       "4       0.5            0.0      0.0            0.0   ...      \n",
       "\n",
       "   boundary.m_flow_in  dir_valve_act  dt_rand  C_level  HT_temperature.T  \\\n",
       "0                 0.0            0.0      0.0     0.01        283.149994   \n",
       "1                 0.0            0.0      0.0     0.01        283.163330   \n",
       "2                 0.0            0.0      0.0     0.01        283.176666   \n",
       "3                 0.0            0.0      0.0     0.01        283.189972   \n",
       "4                 0.0            0.0      0.0     0.01        283.203247   \n",
       "\n",
       "   heater_act  HT_level  ATTACK  limiter1.y  dL_rand  \n",
       "0         0.0       0.1     0.0       100.0      0.0  \n",
       "1         0.0       0.1     0.0       100.0      0.0  \n",
       "2         0.0       0.1     0.0       100.0      0.0  \n",
       "3         0.0       0.1     0.0       100.0      0.0  \n",
       "4         0.0       0.1     0.0       100.0      0.0  \n",
       "\n",
       "[5 rows x 23 columns]"
      ]
     },
     "execution_count": 3,
     "metadata": {},
     "output_type": "execute_result"
    }
   ],
   "source": [
    "frame.head()"
   ]
  },
  {
   "cell_type": "code",
   "execution_count": 29,
   "metadata": {
    "collapsed": false
   },
   "outputs": [
    {
     "data": {
      "text/plain": [
       "Counter({0.0: 69851, 1.0: 149})"
      ]
     },
     "execution_count": 29,
     "metadata": {},
     "output_type": "execute_result"
    }
   ],
   "source": [
    "#trying to figure out time series len of normal behaviour\n",
    "from collections import Counter\n",
    "Counter(frame.DANGER[:70000])"
   ]
  },
  {
   "cell_type": "code",
   "execution_count": 34,
   "metadata": {
    "collapsed": true
   },
   "outputs": [],
   "source": [
    "safery_len = 50000\n",
    "good = 3000\n",
    "bad = 20000"
   ]
  },
  {
   "cell_type": "code",
   "execution_count": 35,
   "metadata": {
    "collapsed": true
   },
   "outputs": [],
   "source": [
    "# Fixing the random number seed to ensure results are reprodusable\n",
    "np.random.seed(7)"
   ]
  },
  {
   "cell_type": "code",
   "execution_count": 36,
   "metadata": {
    "collapsed": false
   },
   "outputs": [
    {
     "data": {
      "image/png": "[encoded data removed]",
      "text/plain": [
       "<matplotlib.figure.Figure at 0x7f4dd1693790>"
      ]
     },
     "metadata": {},
     "output_type": "display_data"
    }
   ],
   "source": [
    "#plotting the one graph\n",
    "plt.plot(frame.Time[:safery_len], frame['RT_temperature.T'][:safery_len])\n",
    "plt.show()"
   ]
  },
  {
   "cell_type": "code",
   "execution_count": 37,
   "metadata": {
    "collapsed": false
   },
   "outputs": [
    {
     "data": {
      "image/png": "[encoded data removed]",
      "text/plain": [
       "<matplotlib.figure.Figure at 0x7f4dd15e5350>"
      ]
     },
     "metadata": {},
     "output_type": "display_data"
    }
   ],
   "source": [
    "plt.plot(frame.Time[:safery_len + bad], frame['RT_temperature.T'][:safery_len + bad])\n",
    "plt.show()"
   ]
  },
  {
   "cell_type": "code",
   "execution_count": 55,
   "metadata": {
    "collapsed": true
   },
   "outputs": [],
   "source": [
    "#making np array for RT_temperature\n",
    "RT_temperarute_data = frame['RT_temperature.T'][:safery_len].values\n",
    "RT_temperarute_data = RT_temperarute_data.reshape(-1, 1)"
   ]
  },
  {
   "cell_type": "code",
   "execution_count": 56,
   "metadata": {
    "collapsed": false
   },
   "outputs": [
    {
     "data": {
      "text/plain": [
       "(5, 1)"
      ]
     },
     "execution_count": 56,
     "metadata": {},
     "output_type": "execute_result"
    }
   ],
   "source": [
    "RT_temperarute_data[:5].shape"
   ]
  },
  {
   "cell_type": "code",
   "execution_count": 57,
   "metadata": {
    "collapsed": false
   },
   "outputs": [],
   "source": [
    "#normalizing rt temp data\n",
    "scaler = MinMaxScaler(feature_range=(0, 1))\n",
    "RT_temperarute_normalized_data = scaler.fit_transform(RT_temperarute_data)\n",
    "RT_temperarute_normalized_data = RT_temperarute_normalized_data.reshape(-1, 1)"
   ]
  },
  {
   "cell_type": "code",
   "execution_count": 58,
   "metadata": {
    "collapsed": false
   },
   "outputs": [
    {
     "name": "stdout",
     "output_type": "stream",
     "text": [
      "33500 16500\n"
     ]
    }
   ],
   "source": [
    "#split into train and test sets\n",
    "train_size = int(len(RT_temperarute_normalized_data) * 0.67)\n",
    "test_size = len(RT_temperarute_normalized_data) - train_size\n",
    "train, test = RT_temperarute_normalized_data[0:train_size,:], RT_temperarute_normalized_data[train_size:len(RT_temperarute_normalized_data),:]\n",
    "print len(train), len(test)"
   ]
  },
  {
   "cell_type": "code",
   "execution_count": 59,
   "metadata": {
    "collapsed": true
   },
   "outputs": [],
   "source": [
    "#making a function to create a new dataset\n",
    "#dataset is numpy array\n",
    "#look_back is the number of previous time steps to use as imput variables to predict the next time period\n",
    "#default func will create a dataset where X is the number of passengers at a given time (t)\n",
    "# Y is the number of passengers at the next time (t+1)\n",
    "def create_dataset(dataset, look_back = 1):\n",
    "    dataX, dataY = [], []\n",
    "    for i in range(len(dataset) - look_back - 1):\n",
    "        next_portion = dataset[i:(i + look_back), 0]\n",
    "        dataX.append(next_portion)\n",
    "        dataY.append(dataset[i + look_back, 0])\n",
    "    return np.array(dataX), np.array(dataY)"
   ]
  },
  {
   "cell_type": "code",
   "execution_count": 60,
   "metadata": {
    "collapsed": true
   },
   "outputs": [],
   "source": [
    "#reshape into X = t and Y = t + 1\n",
    "look_back = 1\n",
    "trainX, trainY = create_dataset(train, look_back)\n",
    "testX, testY = create_dataset(test, look_back)"
   ]
  },
  {
   "cell_type": "code",
   "execution_count": 68,
   "metadata": {
    "collapsed": false
   },
   "outputs": [],
   "source": [
    "#reshape input to be [samples, time steps, features]\n",
    "trainX = np.reshape(trainX, (trainX.shape[0], 1, trainX.shape[1]))\n",
    "testX = np.reshape(testX, (testX.shape[0], 1, testX.shape[1]))"
   ]
  },
  {
   "cell_type": "code",
   "execution_count": 69,
   "metadata": {
    "collapsed": true
   },
   "outputs": [],
   "source": [
    "#create and fit the LSTM network\n",
    "model = Sequential()\n",
    "model.add(LSTM(4, input_dim = look_back))\n",
    "model.add(Dense(1))\n",
    "model.compile(loss = 'mean_squared_error', optimizer = 'adam')"
   ]
  },
  {
   "cell_type": "code",
   "execution_count": 71,
   "metadata": {
    "collapsed": false
   },
   "outputs": [
    {
     "name": "stdout",
     "output_type": "stream",
     "text": [
      "Epoch 1/100\n",
      "122s - loss: 0.0017\n",
      "Epoch 2/100\n",
      "112s - loss: 8.5059e-06\n",
      "Epoch 3/100\n",
      "103s - loss: 2.2813e-06\n",
      "Epoch 4/100\n",
      "114s - loss: 2.1479e-06\n",
      "Epoch 5/100\n",
      "96s - loss: 2.1576e-06\n",
      "Epoch 6/100\n",
      "98s - loss: 2.2263e-06\n",
      "Epoch 7/100\n",
      "89s - loss: 2.1071e-06\n",
      "Epoch 8/100\n",
      "85s - loss: 2.0342e-06\n",
      "Epoch 9/100\n",
      "85s - loss: 2.0749e-06\n",
      "Epoch 10/100\n",
      "85s - loss: 1.9979e-06\n",
      "Epoch 11/100\n",
      "86s - loss: 1.9855e-06\n",
      "Epoch 12/100\n",
      "86s - loss: 1.9602e-06\n",
      "Epoch 13/100\n",
      "85s - loss: 1.9105e-06\n",
      "Epoch 14/100\n",
      "83s - loss: 1.8897e-06\n",
      "Epoch 15/100\n",
      "87s - loss: 1.9290e-06\n",
      "Epoch 16/100\n",
      "111s - loss: 1.8286e-06\n",
      "Epoch 17/100\n",
      "111s - loss: 1.8160e-06\n",
      "Epoch 18/100\n",
      "110s - loss: 1.7965e-06\n",
      "Epoch 19/100\n",
      "94s - loss: 1.7720e-06\n",
      "Epoch 20/100\n",
      "90s - loss: 1.7835e-06\n",
      "Epoch 21/100\n",
      "111s - loss: 1.7423e-06\n",
      "Epoch 22/100\n",
      "107s - loss: 1.7812e-06\n",
      "Epoch 23/100\n",
      "93s - loss: 1.7360e-06\n",
      "Epoch 24/100\n",
      "87s - loss: 1.7090e-06\n",
      "Epoch 25/100\n",
      "85s - loss: 1.7111e-06\n",
      "Epoch 26/100\n",
      "83s - loss: 1.7150e-06\n",
      "Epoch 27/100\n",
      "84s - loss: 1.6972e-06\n",
      "Epoch 28/100\n",
      "83s - loss: 1.6849e-06\n",
      "Epoch 29/100\n",
      "83s - loss: 1.6869e-06\n",
      "Epoch 30/100\n",
      "83s - loss: 1.6606e-06\n",
      "Epoch 31/100\n",
      "86s - loss: 1.6596e-06\n",
      "Epoch 32/100\n",
      "83s - loss: 1.6500e-06\n",
      "Epoch 33/100\n",
      "83s - loss: 1.6698e-06\n",
      "Epoch 34/100\n",
      "83s - loss: 1.6207e-06\n",
      "Epoch 35/100\n",
      "83s - loss: 1.6098e-06\n",
      "Epoch 36/100\n",
      "83s - loss: 1.6143e-06\n",
      "Epoch 37/100\n",
      "83s - loss: 1.6356e-06\n",
      "Epoch 38/100\n",
      "83s - loss: 1.6461e-06\n",
      "Epoch 39/100\n",
      "83s - loss: 1.6143e-06\n",
      "Epoch 40/100\n",
      "83s - loss: 1.5998e-06\n",
      "Epoch 41/100\n",
      "83s - loss: 1.5952e-06\n",
      "Epoch 42/100\n",
      "83s - loss: 1.5994e-06\n",
      "Epoch 43/100\n",
      "83s - loss: 1.5536e-06\n",
      "Epoch 44/100\n",
      "84s - loss: 1.5987e-06\n",
      "Epoch 45/100\n",
      "86s - loss: 1.6072e-06\n",
      "Epoch 46/100\n",
      "83s - loss: 1.5746e-06\n",
      "Epoch 47/100\n",
      "83s - loss: 1.5945e-06\n",
      "Epoch 48/100\n",
      "86s - loss: 1.5635e-06\n",
      "Epoch 49/100\n",
      "83s - loss: 1.5356e-06\n",
      "Epoch 50/100\n",
      "83s - loss: 1.5674e-06\n",
      "Epoch 51/100\n",
      "83s - loss: 1.5401e-06\n",
      "Epoch 52/100\n",
      "84s - loss: 1.5723e-06\n",
      "Epoch 53/100\n",
      "83s - loss: 1.5465e-06\n",
      "Epoch 54/100\n",
      "83s - loss: 1.5465e-06\n",
      "Epoch 55/100\n",
      "83s - loss: 1.5452e-06\n",
      "Epoch 56/100\n",
      "86s - loss: 1.5530e-06\n",
      "Epoch 57/100\n",
      "83s - loss: 1.5332e-06\n",
      "Epoch 58/100\n",
      "83s - loss: 1.5694e-06\n",
      "Epoch 59/100\n",
      "83s - loss: 1.5160e-06\n",
      "Epoch 60/100\n",
      "83s - loss: 1.4874e-06\n",
      "Epoch 61/100\n",
      "83s - loss: 1.5274e-06\n",
      "Epoch 62/100\n",
      "83s - loss: 1.5404e-06\n",
      "Epoch 63/100\n",
      "83s - loss: 1.5164e-06\n",
      "Epoch 64/100\n",
      "83s - loss: 1.5143e-06\n",
      "Epoch 65/100\n",
      "84s - loss: 1.5261e-06\n",
      "Epoch 66/100\n",
      "83s - loss: 1.5112e-06\n",
      "Epoch 67/100\n",
      "83s - loss: 1.5548e-06\n",
      "Epoch 68/100\n",
      "83s - loss: 1.5115e-06\n",
      "Epoch 69/100\n",
      "86s - loss: 1.5354e-06\n",
      "Epoch 70/100\n",
      "83s - loss: 1.5055e-06\n",
      "Epoch 71/100\n",
      "83s - loss: 1.4672e-06\n",
      "Epoch 72/100\n",
      "83s - loss: 1.4658e-06\n",
      "Epoch 73/100\n",
      "83s - loss: 1.4938e-06\n",
      "Epoch 74/100\n",
      "83s - loss: 1.5236e-06\n",
      "Epoch 75/100\n",
      "83s - loss: 1.4694e-06\n",
      "Epoch 76/100\n",
      "83s - loss: 1.4954e-06\n",
      "Epoch 77/100\n",
      "85s - loss: 1.4668e-06\n",
      "Epoch 78/100\n",
      "83s - loss: 1.4649e-06\n",
      "Epoch 79/100\n",
      "83s - loss: 1.4419e-06\n",
      "Epoch 80/100\n",
      "83s - loss: 1.4685e-06\n",
      "Epoch 81/100\n",
      "83s - loss: 1.4755e-06\n",
      "Epoch 82/100\n",
      "83s - loss: 1.4849e-06\n",
      "Epoch 83/100\n",
      "83s - loss: 1.4715e-06\n",
      "Epoch 84/100\n",
      "86s - loss: 1.4886e-06\n",
      "Epoch 85/100\n",
      "83s - loss: 1.4132e-06\n",
      "Epoch 86/100\n",
      "83s - loss: 1.4238e-06\n",
      "Epoch 87/100\n",
      "83s - loss: 1.4678e-06\n",
      "Epoch 88/100\n",
      "98s - loss: 1.4232e-06\n",
      "Epoch 89/100\n",
      "114s - loss: 1.4375e-06\n",
      "Epoch 90/100\n",
      "92s - loss: 1.4648e-06\n",
      "Epoch 91/100\n",
      "88s - loss: 1.4433e-06\n",
      "Epoch 92/100\n",
      "94s - loss: 1.4356e-06\n",
      "Epoch 93/100\n",
      "88s - loss: 1.4372e-06\n",
      "Epoch 94/100\n",
      "92s - loss: 1.4291e-06\n",
      "Epoch 95/100\n",
      "90s - loss: 1.4719e-06\n",
      "Epoch 96/100\n",
      "90s - loss: 1.4517e-06\n",
      "Epoch 97/100\n",
      "89s - loss: 1.4532e-06\n",
      "Epoch 98/100\n",
      "94s - loss: 1.4626e-06\n",
      "Epoch 99/100\n",
      "93s - loss: 1.4191e-06\n",
      "Epoch 100/100\n",
      "93s - loss: 1.4460e-06\n"
     ]
    },
    {
     "data": {
      "text/plain": [
       "<keras.callbacks.History at 0x7f4dd0ebce10>"
      ]
     },
     "execution_count": 71,
     "metadata": {},
     "output_type": "execute_result"
    }
   ],
   "source": [
    "model.fit(trainX, trainY, nb_epoch = 100, batch_size = 1, verbose=2)"
   ]
  },
  {
   "cell_type": "code",
   "execution_count": 72,
   "metadata": {
    "collapsed": false
   },
   "outputs": [
    {
     "name": "stdout",
     "output_type": "stream",
     "text": [
      "Train Score: 0.04 RMSE\n",
      "Test Score: 0.03 RMSE\n"
     ]
    }
   ],
   "source": [
    "# make predictions\n",
    "trainPredict = model.predict(trainX)\n",
    "testPredict = model.predict(testX)\n",
    "# invert predictions\n",
    "trainPredict = scaler.inverse_transform(trainPredict)\n",
    "trainY = scaler.inverse_transform([trainY])\n",
    "testPredict = scaler.inverse_transform(testPredict)\n",
    "testY = scaler.inverse_transform([testY])\n",
    "# calculate root mean squared error\n",
    "trainScore = math.sqrt(mean_squared_error(trainY[0], trainPredict[:,0]))\n",
    "print('Train Score: %.2f RMSE' % (trainScore))\n",
    "testScore = math.sqrt(mean_squared_error(testY[0], testPredict[:,0]))\n",
    "print('Test Score: %.2f RMSE' % (testScore))"
   ]
  },
  {
   "cell_type": "code",
   "execution_count": 75,
   "metadata": {
    "collapsed": false
   },
   "outputs": [
    {
     "data": {
      "image/png": "[encoded data removed]",
      "text/plain": [
       "<matplotlib.figure.Figure at 0x7f4dd1529ed0>"
      ]
     },
     "metadata": {},
     "output_type": "display_data"
    }
   ],
   "source": [
    "# shift train predictions for plotting\n",
    "trainPredictPlot = np.empty_like(RT_temperarute_normalized_data)\n",
    "trainPredictPlot[:, :] = np.nan\n",
    "trainPredictPlot[look_back:len(trainPredict)+look_back, :] = trainPredict\n",
    "# shift test predictions for plotting\n",
    "testPredictPlot = np.empty_like(RT_temperarute_normalized_data)\n",
    "testPredictPlot[:, :] = np.nan\n",
    "testPredictPlot[len(trainPredict)+(look_back*2)+1:len(RT_temperarute_normalized_data)-1, :] = testPredict\n",
    "# plot baseline and predictions\n",
    "plt.plot(scaler.inverse_transform(RT_temperarute_normalized_data))\n",
    "plt.plot(trainPredictPlot)\n",
    "plt.plot(testPredictPlot)\n",
    "plt.show()"
   ]
  }
 ],
 "metadata": {
  "kernelspec": {
   "display_name": "Python 2",
   "language": "python",
   "name": "python2"
  },
  "language_info": {
   "codemirror_mode": {
    "name": "ipython",
    "version": 2
   },
   "file_extension": ".py",
   "mimetype": "text/x-python",
   "name": "python",
   "nbconvert_exporter": "python",
   "pygments_lexer": "ipython2",
   "version": "2.7.13"
  }
 },
 "nbformat": 4,
 "nbformat_minor": 2
}
