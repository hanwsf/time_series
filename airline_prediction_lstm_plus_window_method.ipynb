{
 "cells": [
  {
   "cell_type": "code",
   "execution_count": 1,
   "metadata": {
    "collapsed": true
   },
   "outputs": [],
   "source": [
    "import pandas as pd\n",
    "import matplotlib.pyplot as plt"
   ]
  },
  {
   "cell_type": "code",
   "execution_count": 2,
   "metadata": {
    "collapsed": false
   },
   "outputs": [],
   "source": [
    "airline_frame = pd.read_csv('international-airline-passengers.csv', usecols=[1], engine='python', skipfooter=3)"
   ]
  },
  {
   "cell_type": "code",
   "execution_count": 3,
   "metadata": {
    "collapsed": false
   },
   "outputs": [
    {
     "data": {
      "text/html": [
       "<div>\n",
       "<table border=\"1\" class=\"dataframe\">\n",
       "  <thead>\n",
       "    <tr style=\"text-align: right;\">\n",
       "      <th></th>\n",
       "      <th>International airline passengers: monthly totals in thousands. Jan 49 ? Dec 60</th>\n",
       "    </tr>\n",
       "  </thead>\n",
       "  <tbody>\n",
       "    <tr>\n",
       "      <th>0</th>\n",
       "      <td>112</td>\n",
       "    </tr>\n",
       "    <tr>\n",
       "      <th>1</th>\n",
       "      <td>118</td>\n",
       "    </tr>\n",
       "    <tr>\n",
       "      <th>2</th>\n",
       "      <td>132</td>\n",
       "    </tr>\n",
       "    <tr>\n",
       "      <th>3</th>\n",
       "      <td>129</td>\n",
       "    </tr>\n",
       "    <tr>\n",
       "      <th>4</th>\n",
       "      <td>121</td>\n",
       "    </tr>\n",
       "  </tbody>\n",
       "</table>\n",
       "</div>"
      ],
      "text/plain": [
       "   International airline passengers: monthly totals in thousands. Jan 49 ? Dec 60\n",
       "0                                                112                             \n",
       "1                                                118                             \n",
       "2                                                132                             \n",
       "3                                                129                             \n",
       "4                                                121                             "
      ]
     },
     "execution_count": 3,
     "metadata": {},
     "output_type": "execute_result"
    }
   ],
   "source": [
    "airline_frame.head()"
   ]
  },
  {
   "cell_type": "code",
   "execution_count": 4,
   "metadata": {
    "collapsed": false
   },
   "outputs": [
    {
     "data": {
      "image/png": "[encoded data removed]",
      "text/plain": [
       "<matplotlib.figure.Figure at 0x7f3779a67290>"
      ]
     },
     "metadata": {},
     "output_type": "display_data"
    }
   ],
   "source": [
    "plt.plot(airline_frame)\n",
    "plt.show()"
   ]
  },
  {
   "cell_type": "code",
   "execution_count": 5,
   "metadata": {
    "collapsed": false
   },
   "outputs": [
    {
     "name": "stderr",
     "output_type": "stream",
     "text": [
      "Using TensorFlow backend.\n"
     ]
    }
   ],
   "source": [
    "import numpy\n",
    "import matplotlib.pyplot as plt\n",
    "import pandas\n",
    "import math\n",
    "from keras.models import Sequential\n",
    "from keras.layers import Dense\n",
    "from keras.layers import LSTM\n",
    "from sklearn.preprocessing import MinMaxScaler\n",
    "from sklearn.metrics import mean_squared_error"
   ]
  },
  {
   "cell_type": "code",
   "execution_count": 6,
   "metadata": {
    "collapsed": true
   },
   "outputs": [],
   "source": [
    "# fix random seed for reproducibility\n",
    "numpy.random.seed(7)"
   ]
  },
  {
   "cell_type": "code",
   "execution_count": 7,
   "metadata": {
    "collapsed": true
   },
   "outputs": [],
   "source": [
    "airline_np_array = airline_frame.values\n",
    "airline_np_array = airline_np_array.astype('float32')"
   ]
  },
  {
   "cell_type": "code",
   "execution_count": 8,
   "metadata": {
    "collapsed": false
   },
   "outputs": [
    {
     "data": {
      "text/plain": [
       "(144, 1)"
      ]
     },
     "execution_count": 8,
     "metadata": {},
     "output_type": "execute_result"
    }
   ],
   "source": [
    "airline_np_array.shape"
   ]
  },
  {
   "cell_type": "code",
   "execution_count": 9,
   "metadata": {
    "collapsed": false
   },
   "outputs": [
    {
     "data": {
      "text/plain": [
       "array([[ 112.],\n",
       "       [ 118.],\n",
       "       [ 132.],\n",
       "       [ 129.],\n",
       "       [ 121.]], dtype=float32)"
      ]
     },
     "execution_count": 9,
     "metadata": {},
     "output_type": "execute_result"
    }
   ],
   "source": [
    "airline_np_array[:5]"
   ]
  },
  {
   "cell_type": "code",
   "execution_count": 10,
   "metadata": {
    "collapsed": true
   },
   "outputs": [],
   "source": [
    "#normalize the dataset\n",
    "scaler = MinMaxScaler(feature_range=(0, 1))\n",
    "airline_normalized_np_array = scaler.fit_transform(airline_np_array)"
   ]
  },
  {
   "cell_type": "code",
   "execution_count": 11,
   "metadata": {
    "collapsed": false
   },
   "outputs": [
    {
     "data": {
      "text/plain": [
       "array([[ 0.01544401],\n",
       "       [ 0.02702703],\n",
       "       [ 0.05405405],\n",
       "       [ 0.04826255],\n",
       "       [ 0.03281853]], dtype=float32)"
      ]
     },
     "execution_count": 11,
     "metadata": {},
     "output_type": "execute_result"
    }
   ],
   "source": [
    "airline_normalized_np_array[:5]"
   ]
  },
  {
   "cell_type": "code",
   "execution_count": 12,
   "metadata": {
    "collapsed": false
   },
   "outputs": [
    {
     "data": {
      "text/plain": [
       "array([[ 0.01544401],\n",
       "       [ 0.02702703],\n",
       "       [ 0.05405405],\n",
       "       [ 0.04826255],\n",
       "       [ 0.03281853]], dtype=float32)"
      ]
     },
     "execution_count": 12,
     "metadata": {},
     "output_type": "execute_result"
    }
   ],
   "source": [
    "airline_normalized_np_array[0:5,:]"
   ]
  },
  {
   "cell_type": "code",
   "execution_count": 14,
   "metadata": {
    "collapsed": false
   },
   "outputs": [
    {
     "name": "stdout",
     "output_type": "stream",
     "text": [
      "(96, 48)\n"
     ]
    }
   ],
   "source": [
    "# split into train and test sets\n",
    "dataset = airline_normalized_np_array\n",
    "train_size = int(len(dataset) * 0.67)\n",
    "test_size = len(dataset) - train_size\n",
    "train, test = dataset[0:train_size,:], dataset[train_size:len(dataset),:]\n",
    "print(len(train), len(test))"
   ]
  },
  {
   "cell_type": "code",
   "execution_count": 15,
   "metadata": {
    "collapsed": false
   },
   "outputs": [],
   "source": [
    "#split into train and test sets\n",
    "train_size = int(len(airline_normalized_np_array) * 0.67)\n",
    "test_size = len(airline_normalized_np_array) - train_size\n",
    "train, test = airline_normalized_np_array[0:train_size:], airline_normalized_np_array[train_size:len(airline_normalized_np_array):]"
   ]
  },
  {
   "cell_type": "code",
   "execution_count": 16,
   "metadata": {
    "collapsed": true
   },
   "outputs": [],
   "source": [
    "# convert an array of values into a dataset matrix\n",
    "def create_dataset(dataset, look_back=1):\n",
    "\tdataX, dataY = [], []\n",
    "\tfor i in range(len(dataset)-look_back-1):\n",
    "\t\ta = dataset[i:(i+look_back), 0]\n",
    "\t\tdataX.append(a)\n",
    "\t\tdataY.append(dataset[i + look_back, 0])\n",
    "\treturn numpy.array(dataX), numpy.array(dataY)"
   ]
  },
  {
   "cell_type": "code",
   "execution_count": 17,
   "metadata": {
    "collapsed": false
   },
   "outputs": [],
   "source": [
    "# reshape into X=t and Y=t+1\n",
    "look_back = 3\n",
    "trainX, trainY = create_dataset(train, look_back)\n",
    "testX, testY = create_dataset(test, look_back)"
   ]
  },
  {
   "cell_type": "markdown",
   "metadata": {},
   "source": [
    "The LSTM network expects the input data (X) to be provided with a specific array structure in the form of: [samples, time steps, features]."
   ]
  },
  {
   "cell_type": "code",
   "execution_count": 18,
   "metadata": {
    "collapsed": false
   },
   "outputs": [
    {
     "data": {
      "text/plain": [
       "(array([[ 0.01544401,  0.02702703,  0.05405405],\n",
       "        [ 0.02702703,  0.05405405,  0.04826255],\n",
       "        [ 0.05405405,  0.04826255,  0.03281853],\n",
       "        [ 0.04826255,  0.03281853,  0.05984557],\n",
       "        [ 0.03281853,  0.05984557,  0.08494207]], dtype=float32),\n",
       " array([ 0.04826255,  0.03281853,  0.05984557,  0.08494207,  0.08494207], dtype=float32))"
      ]
     },
     "execution_count": 18,
     "metadata": {},
     "output_type": "execute_result"
    }
   ],
   "source": [
    "trainX[:5], trainY[:5]"
   ]
  },
  {
   "cell_type": "code",
   "execution_count": 19,
   "metadata": {
    "collapsed": true
   },
   "outputs": [],
   "source": [
    "# reshape input to be [samples, time steps, features]\n",
    "trainX = numpy.reshape(trainX, (trainX.shape[0], 1, trainX.shape[1]))\n",
    "testX = numpy.reshape(testX, (testX.shape[0], 1, testX.shape[1]))"
   ]
  },
  {
   "cell_type": "code",
   "execution_count": 27,
   "metadata": {
    "collapsed": false
   },
   "outputs": [
    {
     "data": {
      "text/plain": [
       "array([[[ 0.01544401,  0.02702703,  0.05405405]],\n",
       "\n",
       "       [[ 0.02702703,  0.05405405,  0.04826255]],\n",
       "\n",
       "       [[ 0.05405405,  0.04826255,  0.03281853]],\n",
       "\n",
       "       [[ 0.04826255,  0.03281853,  0.05984557]],\n",
       "\n",
       "       [[ 0.03281853,  0.05984557,  0.08494207]]], dtype=float32)"
      ]
     },
     "execution_count": 27,
     "metadata": {},
     "output_type": "execute_result"
    }
   ],
   "source": [
    "trainX[:5]"
   ]
  },
  {
   "cell_type": "code",
   "execution_count": 21,
   "metadata": {
    "collapsed": true
   },
   "outputs": [],
   "source": [
    "model = Sequential()\n",
    "model.add(LSTM(4, input_dim=look_back))\n",
    "model.add(Dense(1))\n",
    "model.compile(loss='mean_squared_error', optimizer='adam')"
   ]
  },
  {
   "cell_type": "code",
   "execution_count": 22,
   "metadata": {
    "collapsed": false
   },
   "outputs": [
    {
     "name": "stdout",
     "output_type": "stream",
     "text": [
      "Epoch 1/100\n",
      "0s - loss: 0.0497\n",
      "Epoch 2/100\n",
      "0s - loss: 0.0234\n",
      "Epoch 3/100\n",
      "0s - loss: 0.0165\n",
      "Epoch 4/100\n",
      "0s - loss: 0.0146\n",
      "Epoch 5/100\n",
      "0s - loss: 0.0134\n",
      "Epoch 6/100\n",
      "0s - loss: 0.0123\n",
      "Epoch 7/100\n",
      "0s - loss: 0.0113\n",
      "Epoch 8/100\n",
      "0s - loss: 0.0105\n",
      "Epoch 9/100\n",
      "0s - loss: 0.0096\n",
      "Epoch 10/100\n",
      "0s - loss: 0.0089\n",
      "Epoch 11/100\n",
      "0s - loss: 0.0083\n",
      "Epoch 12/100\n",
      "0s - loss: 0.0076\n",
      "Epoch 13/100\n",
      "0s - loss: 0.0072\n",
      "Epoch 14/100\n",
      "0s - loss: 0.0068\n",
      "Epoch 15/100\n",
      "0s - loss: 0.0065\n",
      "Epoch 16/100\n",
      "0s - loss: 0.0061\n",
      "Epoch 17/100\n",
      "0s - loss: 0.0058\n",
      "Epoch 18/100\n",
      "0s - loss: 0.0057\n",
      "Epoch 19/100\n",
      "0s - loss: 0.0057\n",
      "Epoch 20/100\n",
      "0s - loss: 0.0055\n",
      "Epoch 21/100\n",
      "0s - loss: 0.0052\n",
      "Epoch 22/100\n",
      "0s - loss: 0.0051\n",
      "Epoch 23/100\n",
      "0s - loss: 0.0050\n",
      "Epoch 24/100\n",
      "0s - loss: 0.0049\n",
      "Epoch 25/100\n",
      "0s - loss: 0.0048\n",
      "Epoch 26/100\n",
      "0s - loss: 0.0048\n",
      "Epoch 27/100\n",
      "0s - loss: 0.0046\n",
      "Epoch 28/100\n",
      "0s - loss: 0.0046\n",
      "Epoch 29/100\n",
      "0s - loss: 0.0044\n",
      "Epoch 30/100\n",
      "0s - loss: 0.0044\n",
      "Epoch 31/100\n",
      "0s - loss: 0.0043\n",
      "Epoch 32/100\n",
      "0s - loss: 0.0043\n",
      "Epoch 33/100\n",
      "0s - loss: 0.0041\n",
      "Epoch 34/100\n",
      "0s - loss: 0.0040\n",
      "Epoch 35/100\n",
      "0s - loss: 0.0042\n",
      "Epoch 36/100\n",
      "0s - loss: 0.0040\n",
      "Epoch 37/100\n",
      "0s - loss: 0.0038\n",
      "Epoch 38/100\n",
      "0s - loss: 0.0038\n",
      "Epoch 39/100\n",
      "0s - loss: 0.0038\n",
      "Epoch 40/100\n",
      "0s - loss: 0.0037\n",
      "Epoch 41/100\n",
      "0s - loss: 0.0036\n",
      "Epoch 42/100\n",
      "0s - loss: 0.0035\n",
      "Epoch 43/100\n",
      "0s - loss: 0.0034\n",
      "Epoch 44/100\n",
      "0s - loss: 0.0033\n",
      "Epoch 45/100\n",
      "0s - loss: 0.0034\n",
      "Epoch 46/100\n",
      "0s - loss: 0.0032\n",
      "Epoch 47/100\n",
      "0s - loss: 0.0033\n",
      "Epoch 48/100\n",
      "0s - loss: 0.0031\n",
      "Epoch 49/100\n",
      "0s - loss: 0.0031\n",
      "Epoch 50/100\n",
      "0s - loss: 0.0030\n",
      "Epoch 51/100\n",
      "0s - loss: 0.0029\n",
      "Epoch 52/100\n",
      "0s - loss: 0.0029\n",
      "Epoch 53/100\n",
      "0s - loss: 0.0028\n",
      "Epoch 54/100\n",
      "0s - loss: 0.0029\n",
      "Epoch 55/100\n",
      "0s - loss: 0.0027\n",
      "Epoch 56/100\n",
      "0s - loss: 0.0029\n",
      "Epoch 57/100\n",
      "0s - loss: 0.0026\n",
      "Epoch 58/100\n",
      "0s - loss: 0.0025\n",
      "Epoch 59/100\n",
      "0s - loss: 0.0024\n",
      "Epoch 60/100\n",
      "0s - loss: 0.0024\n",
      "Epoch 61/100\n",
      "0s - loss: 0.0024\n",
      "Epoch 62/100\n",
      "0s - loss: 0.0024\n",
      "Epoch 63/100\n",
      "0s - loss: 0.0023\n",
      "Epoch 64/100\n",
      "0s - loss: 0.0023\n",
      "Epoch 65/100\n",
      "0s - loss: 0.0021\n",
      "Epoch 66/100\n",
      "0s - loss: 0.0022\n",
      "Epoch 67/100\n",
      "0s - loss: 0.0022\n",
      "Epoch 68/100\n",
      "0s - loss: 0.0021\n",
      "Epoch 69/100\n",
      "0s - loss: 0.0020\n",
      "Epoch 70/100\n",
      "0s - loss: 0.0020\n",
      "Epoch 71/100\n",
      "0s - loss: 0.0020\n",
      "Epoch 72/100\n",
      "0s - loss: 0.0020\n",
      "Epoch 73/100\n",
      "0s - loss: 0.0019\n",
      "Epoch 74/100\n",
      "0s - loss: 0.0019\n",
      "Epoch 75/100\n",
      "0s - loss: 0.0019\n",
      "Epoch 76/100\n",
      "0s - loss: 0.0019\n",
      "Epoch 77/100\n",
      "0s - loss: 0.0019\n",
      "Epoch 78/100\n",
      "0s - loss: 0.0019\n",
      "Epoch 79/100\n",
      "0s - loss: 0.0018\n",
      "Epoch 80/100\n",
      "0s - loss: 0.0019\n",
      "Epoch 81/100\n",
      "0s - loss: 0.0018\n",
      "Epoch 82/100\n",
      "0s - loss: 0.0018\n",
      "Epoch 83/100\n",
      "0s - loss: 0.0018\n",
      "Epoch 84/100\n",
      "0s - loss: 0.0018\n",
      "Epoch 85/100\n",
      "0s - loss: 0.0017\n",
      "Epoch 86/100\n",
      "0s - loss: 0.0018\n",
      "Epoch 87/100\n",
      "0s - loss: 0.0018\n",
      "Epoch 88/100\n",
      "0s - loss: 0.0017\n",
      "Epoch 89/100\n",
      "0s - loss: 0.0018\n",
      "Epoch 90/100\n",
      "0s - loss: 0.0017\n",
      "Epoch 91/100\n",
      "0s - loss: 0.0017\n",
      "Epoch 92/100\n",
      "0s - loss: 0.0017\n",
      "Epoch 93/100\n",
      "0s - loss: 0.0018\n",
      "Epoch 94/100\n",
      "0s - loss: 0.0018\n",
      "Epoch 95/100\n",
      "0s - loss: 0.0017\n",
      "Epoch 96/100\n",
      "0s - loss: 0.0017\n",
      "Epoch 97/100\n",
      "0s - loss: 0.0017\n",
      "Epoch 98/100\n",
      "0s - loss: 0.0017\n",
      "Epoch 99/100\n",
      "0s - loss: 0.0017\n",
      "Epoch 100/100\n",
      "0s - loss: 0.0017\n"
     ]
    },
    {
     "data": {
      "text/plain": [
       "<keras.callbacks.History at 0x7f37644e4390>"
      ]
     },
     "execution_count": 22,
     "metadata": {},
     "output_type": "execute_result"
    }
   ],
   "source": [
    "model.fit(trainX, trainY, nb_epoch=100, batch_size=1, verbose=2)"
   ]
  },
  {
   "cell_type": "code",
   "execution_count": 23,
   "metadata": {
    "collapsed": false
   },
   "outputs": [
    {
     "name": "stdout",
     "output_type": "stream",
     "text": [
      "Train Score: 22.07 RMSE\n",
      "Test Score: 56.90 RMSE\n"
     ]
    }
   ],
   "source": [
    "# make predictions\n",
    "trainPredict = model.predict(trainX)\n",
    "testPredict = model.predict(testX)\n",
    "# invert predictions\n",
    "trainPredict = scaler.inverse_transform(trainPredict)\n",
    "trainY = scaler.inverse_transform([trainY])\n",
    "testPredict = scaler.inverse_transform(testPredict)\n",
    "testY = scaler.inverse_transform([testY])\n",
    "# calculate root mean squared error\n",
    "trainScore = math.sqrt(mean_squared_error(trainY[0], trainPredict[:,0]))\n",
    "print('Train Score: %.2f RMSE' % (trainScore))\n",
    "testScore = math.sqrt(mean_squared_error(testY[0], testPredict[:,0]))\n",
    "print('Test Score: %.2f RMSE' % (testScore))"
   ]
  },
  {
   "cell_type": "markdown",
   "metadata": {},
   "source": [
    "The original dataset is blue, the predictions for the training dataset are green, and the predictions on the unseen test dataset are red."
   ]
  },
  {
   "cell_type": "code",
   "execution_count": 24,
   "metadata": {
    "collapsed": true
   },
   "outputs": [],
   "source": [
    "dataset = airline_normalized_np_array"
   ]
  },
  {
   "cell_type": "code",
   "execution_count": 25,
   "metadata": {
    "collapsed": false
   },
   "outputs": [
    {
     "data": {
      "image/png": "[encoded data removed]",
      "text/plain": [
       "<matplotlib.figure.Figure at 0x7f37642f4a90>"
      ]
     },
     "metadata": {},
     "output_type": "display_data"
    }
   ],
   "source": [
    "# shift train predictions for plotting\n",
    "trainPredictPlot = numpy.empty_like(dataset)\n",
    "trainPredictPlot[:, :] = numpy.nan\n",
    "trainPredictPlot[look_back:len(trainPredict)+look_back, :] = trainPredict\n",
    "# shift test predictions for plotting\n",
    "testPredictPlot = numpy.empty_like(dataset)\n",
    "testPredictPlot[:, :] = numpy.nan\n",
    "testPredictPlot[len(trainPredict)+(look_back*2)+1:len(dataset)-1, :] = testPredict\n",
    "# plot baseline and predictions\n",
    "plt.plot(scaler.inverse_transform(dataset))\n",
    "plt.plot(trainPredictPlot)\n",
    "plt.plot(testPredictPlot)\n",
    "plt.show()"
   ]
  },
  {
   "cell_type": "code",
   "execution_count": null,
   "metadata": {
    "collapsed": true
   },
   "outputs": [],
   "source": []
  }
 ],
 "metadata": {
  "kernelspec": {
   "display_name": "Python 2",
   "language": "python",
   "name": "python2"
  },
  "language_info": {
   "codemirror_mode": {
    "name": "ipython",
    "version": 2
   },
   "file_extension": ".py",
   "mimetype": "text/x-python",
   "name": "python",
   "nbconvert_exporter": "python",
   "pygments_lexer": "ipython2",
   "version": "2.7.13"
  }
 },
 "nbformat": 4,
 "nbformat_minor": 2
}
