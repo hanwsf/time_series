{
 "cells": [
  {
   "cell_type": "code",
   "execution_count": 1,
   "metadata": {
    "collapsed": true
   },
   "outputs": [],
   "source": [
    "import pandas as pd\n",
    "import matplotlib.pyplot as plt"
   ]
  },
  {
   "cell_type": "code",
   "execution_count": 2,
   "metadata": {
    "collapsed": false
   },
   "outputs": [],
   "source": [
    "airline_frame = pd.read_csv('international-airline-passengers.csv', usecols=[1], engine='python', skipfooter=3)"
   ]
  },
  {
   "cell_type": "code",
   "execution_count": 3,
   "metadata": {
    "collapsed": false
   },
   "outputs": [
    {
     "data": {
      "text/html": [
       "<div>\n",
       "<table border=\"1\" class=\"dataframe\">\n",
       "  <thead>\n",
       "    <tr style=\"text-align: right;\">\n",
       "      <th></th>\n",
       "      <th>International airline passengers: monthly totals in thousands. Jan 49 ? Dec 60</th>\n",
       "    </tr>\n",
       "  </thead>\n",
       "  <tbody>\n",
       "    <tr>\n",
       "      <th>0</th>\n",
       "      <td>112</td>\n",
       "    </tr>\n",
       "    <tr>\n",
       "      <th>1</th>\n",
       "      <td>118</td>\n",
       "    </tr>\n",
       "    <tr>\n",
       "      <th>2</th>\n",
       "      <td>132</td>\n",
       "    </tr>\n",
       "    <tr>\n",
       "      <th>3</th>\n",
       "      <td>129</td>\n",
       "    </tr>\n",
       "    <tr>\n",
       "      <th>4</th>\n",
       "      <td>121</td>\n",
       "    </tr>\n",
       "  </tbody>\n",
       "</table>\n",
       "</div>"
      ],
      "text/plain": [
       "   International airline passengers: monthly totals in thousands. Jan 49 ? Dec 60\n",
       "0                                                112                             \n",
       "1                                                118                             \n",
       "2                                                132                             \n",
       "3                                                129                             \n",
       "4                                                121                             "
      ]
     },
     "execution_count": 3,
     "metadata": {},
     "output_type": "execute_result"
    }
   ],
   "source": [
    "airline_frame.head()"
   ]
  },
  {
   "cell_type": "code",
   "execution_count": 4,
   "metadata": {
    "collapsed": false
   },
   "outputs": [
    {
     "data": {
      "image/png": "[encoded data removed]",
      "text/plain": [
       "<matplotlib.figure.Figure at 0x7ff1415cd290>"
      ]
     },
     "metadata": {},
     "output_type": "display_data"
    }
   ],
   "source": [
    "plt.plot(airline_frame)\n",
    "plt.show()"
   ]
  },
  {
   "cell_type": "code",
   "execution_count": 5,
   "metadata": {
    "collapsed": false
   },
   "outputs": [
    {
     "name": "stderr",
     "output_type": "stream",
     "text": [
      "Using TensorFlow backend.\n"
     ]
    }
   ],
   "source": [
    "import numpy\n",
    "import matplotlib.pyplot as plt\n",
    "import pandas\n",
    "import math\n",
    "from keras.models import Sequential\n",
    "from keras.layers import Dense\n",
    "from keras.layers import LSTM\n",
    "from sklearn.preprocessing import MinMaxScaler\n",
    "from sklearn.metrics import mean_squared_error"
   ]
  },
  {
   "cell_type": "code",
   "execution_count": 6,
   "metadata": {
    "collapsed": true
   },
   "outputs": [],
   "source": [
    "# fix random seed for reproducibility\n",
    "numpy.random.seed(7)"
   ]
  },
  {
   "cell_type": "code",
   "execution_count": 7,
   "metadata": {
    "collapsed": true
   },
   "outputs": [],
   "source": [
    "airline_np_array = airline_frame.values\n",
    "airline_np_array = airline_np_array.astype('float32')"
   ]
  },
  {
   "cell_type": "code",
   "execution_count": 8,
   "metadata": {
    "collapsed": false
   },
   "outputs": [
    {
     "data": {
      "text/plain": [
       "(144, 1)"
      ]
     },
     "execution_count": 8,
     "metadata": {},
     "output_type": "execute_result"
    }
   ],
   "source": [
    "airline_np_array.shape"
   ]
  },
  {
   "cell_type": "code",
   "execution_count": 9,
   "metadata": {
    "collapsed": false
   },
   "outputs": [
    {
     "data": {
      "text/plain": [
       "array([[ 112.],\n",
       "       [ 118.],\n",
       "       [ 132.],\n",
       "       [ 129.],\n",
       "       [ 121.]], dtype=float32)"
      ]
     },
     "execution_count": 9,
     "metadata": {},
     "output_type": "execute_result"
    }
   ],
   "source": [
    "airline_np_array[:5]"
   ]
  },
  {
   "cell_type": "code",
   "execution_count": 10,
   "metadata": {
    "collapsed": true
   },
   "outputs": [],
   "source": [
    "#normalize the dataset\n",
    "scaler = MinMaxScaler(feature_range=(0, 1))\n",
    "airline_normalized_np_array = scaler.fit_transform(airline_np_array)"
   ]
  },
  {
   "cell_type": "code",
   "execution_count": 11,
   "metadata": {
    "collapsed": false
   },
   "outputs": [
    {
     "data": {
      "text/plain": [
       "array([[ 0.01544401],\n",
       "       [ 0.02702703],\n",
       "       [ 0.05405405],\n",
       "       [ 0.04826255],\n",
       "       [ 0.03281853]], dtype=float32)"
      ]
     },
     "execution_count": 11,
     "metadata": {},
     "output_type": "execute_result"
    }
   ],
   "source": [
    "airline_normalized_np_array[:5]"
   ]
  },
  {
   "cell_type": "code",
   "execution_count": 12,
   "metadata": {
    "collapsed": false
   },
   "outputs": [
    {
     "data": {
      "text/plain": [
       "array([[ 0.01544401],\n",
       "       [ 0.02702703],\n",
       "       [ 0.05405405],\n",
       "       [ 0.04826255],\n",
       "       [ 0.03281853]], dtype=float32)"
      ]
     },
     "execution_count": 12,
     "metadata": {},
     "output_type": "execute_result"
    }
   ],
   "source": [
    "airline_normalized_np_array[0:5,:]"
   ]
  },
  {
   "cell_type": "code",
   "execution_count": 13,
   "metadata": {
    "collapsed": false
   },
   "outputs": [
    {
     "name": "stdout",
     "output_type": "stream",
     "text": [
      "(96, 48)\n"
     ]
    }
   ],
   "source": [
    "# split into train and test sets\n",
    "dataset = airline_normalized_np_array\n",
    "train_size = int(len(dataset) * 0.67)\n",
    "test_size = len(dataset) - train_size\n",
    "train, test = dataset[0:train_size,:], dataset[train_size:len(dataset),:]\n",
    "print(len(train), len(test))"
   ]
  },
  {
   "cell_type": "code",
   "execution_count": 14,
   "metadata": {
    "collapsed": false
   },
   "outputs": [],
   "source": [
    "#split into train and test sets\n",
    "train_size = int(len(airline_normalized_np_array) * 0.67)\n",
    "test_size = len(airline_normalized_np_array) - train_size\n",
    "train, test = airline_normalized_np_array[0:train_size,:], airline_normalized_np_array[train_size:len(airline_normalized_np_array),:]"
   ]
  },
  {
   "cell_type": "code",
   "execution_count": 15,
   "metadata": {
    "collapsed": true
   },
   "outputs": [],
   "source": [
    "# convert an array of values into a dataset matrix\n",
    "def create_dataset(dataset, look_back=1):\n",
    "\tdataX, dataY = [], []\n",
    "\tfor i in range(len(dataset)-look_back-1):\n",
    "\t\ta = dataset[i:(i+look_back), 0]\n",
    "\t\tdataX.append(a)\n",
    "\t\tdataY.append(dataset[i + look_back, 0])\n",
    "\treturn numpy.array(dataX), numpy.array(dataY)"
   ]
  },
  {
   "cell_type": "code",
   "execution_count": 16,
   "metadata": {
    "collapsed": true
   },
   "outputs": [],
   "source": [
    "# reshape into X=t and Y=t+1\n",
    "look_back = 3\n",
    "trainX, trainY = create_dataset(train, look_back)\n",
    "testX, testY = create_dataset(test, look_back)\n",
    "# reshape input to be [samples, time steps, features]\n",
    "trainX = numpy.reshape(trainX, (trainX.shape[0], trainX.shape[1], 1))\n",
    "testX = numpy.reshape(testX, (testX.shape[0], testX.shape[1], 1))"
   ]
  },
  {
   "cell_type": "code",
   "execution_count": 17,
   "metadata": {
    "collapsed": false
   },
   "outputs": [
    {
     "data": {
      "text/plain": [
       "array([[[ 0.01544401],\n",
       "        [ 0.02702703],\n",
       "        [ 0.05405405]],\n",
       "\n",
       "       [[ 0.02702703],\n",
       "        [ 0.05405405],\n",
       "        [ 0.04826255]],\n",
       "\n",
       "       [[ 0.05405405],\n",
       "        [ 0.04826255],\n",
       "        [ 0.03281853]],\n",
       "\n",
       "       [[ 0.04826255],\n",
       "        [ 0.03281853],\n",
       "        [ 0.05984557]],\n",
       "\n",
       "       [[ 0.03281853],\n",
       "        [ 0.05984557],\n",
       "        [ 0.08494207]]], dtype=float32)"
      ]
     },
     "execution_count": 17,
     "metadata": {},
     "output_type": "execute_result"
    }
   ],
   "source": [
    "trainX[:5]"
   ]
  },
  {
   "cell_type": "code",
   "execution_count": 18,
   "metadata": {
    "collapsed": false
   },
   "outputs": [],
   "source": [
    "batch_size = 1\n",
    "model = Sequential()\n",
    "model.add(LSTM(4, batch_input_shape=(batch_size, look_back, 1), stateful=True, return_sequences=True))\n",
    "model.add(LSTM(4, batch_input_shape=(batch_size, look_back, 1), stateful=True))\n",
    "model.add(Dense(1))\n",
    "model.compile(loss='mean_squared_error', optimizer='adam')"
   ]
  },
  {
   "cell_type": "code",
   "execution_count": 19,
   "metadata": {
    "collapsed": false
   },
   "outputs": [
    {
     "name": "stdout",
     "output_type": "stream",
     "text": [
      "Epoch 1/1\n",
      "1s - loss: 0.0072\n",
      "Epoch 1/1\n",
      "0s - loss: 0.0267\n",
      "Epoch 1/1\n",
      "0s - loss: 0.0191\n",
      "Epoch 1/1\n",
      "0s - loss: 0.0143\n",
      "Epoch 1/1\n",
      "0s - loss: 0.0099\n",
      "Epoch 1/1\n",
      "0s - loss: 0.0095\n",
      "Epoch 1/1\n",
      "0s - loss: 0.0078\n",
      "Epoch 1/1\n",
      "0s - loss: 0.0068\n",
      "Epoch 1/1\n",
      "0s - loss: 0.0063\n",
      "Epoch 1/1\n",
      "0s - loss: 0.0061\n",
      "Epoch 1/1\n",
      "0s - loss: 0.0059\n",
      "Epoch 1/1\n",
      "0s - loss: 0.0058\n",
      "Epoch 1/1\n",
      "0s - loss: 0.0057\n",
      "Epoch 1/1\n",
      "0s - loss: 0.0057\n",
      "Epoch 1/1\n",
      "0s - loss: 0.0057\n",
      "Epoch 1/1\n",
      "0s - loss: 0.0056\n",
      "Epoch 1/1\n",
      "0s - loss: 0.0056\n",
      "Epoch 1/1\n",
      "0s - loss: 0.0056\n",
      "Epoch 1/1\n",
      "0s - loss: 0.0056\n",
      "Epoch 1/1\n",
      "0s - loss: 0.0056\n",
      "Epoch 1/1\n",
      "0s - loss: 0.0055\n",
      "Epoch 1/1\n",
      "0s - loss: 0.0055\n",
      "Epoch 1/1\n",
      "0s - loss: 0.0055\n",
      "Epoch 1/1\n",
      "0s - loss: 0.0055\n",
      "Epoch 1/1\n",
      "0s - loss: 0.0055\n",
      "Epoch 1/1\n",
      "0s - loss: 0.0055\n",
      "Epoch 1/1\n",
      "0s - loss: 0.0055\n",
      "Epoch 1/1\n",
      "0s - loss: 0.0054\n",
      "Epoch 1/1\n",
      "0s - loss: 0.0054\n",
      "Epoch 1/1\n",
      "0s - loss: 0.0054\n",
      "Epoch 1/1\n",
      "0s - loss: 0.0054\n",
      "Epoch 1/1\n",
      "0s - loss: 0.0054\n",
      "Epoch 1/1\n",
      "0s - loss: 0.0054\n",
      "Epoch 1/1\n",
      "0s - loss: 0.0053\n",
      "Epoch 1/1\n",
      "0s - loss: 0.0053\n",
      "Epoch 1/1\n",
      "0s - loss: 0.0053\n",
      "Epoch 1/1\n",
      "0s - loss: 0.0053\n",
      "Epoch 1/1\n",
      "0s - loss: 0.0053\n",
      "Epoch 1/1\n",
      "0s - loss: 0.0053\n",
      "Epoch 1/1\n",
      "0s - loss: 0.0052\n",
      "Epoch 1/1\n",
      "0s - loss: 0.0052\n",
      "Epoch 1/1\n",
      "0s - loss: 0.0052\n",
      "Epoch 1/1\n",
      "0s - loss: 0.0052\n",
      "Epoch 1/1\n",
      "0s - loss: 0.0052\n",
      "Epoch 1/1\n",
      "0s - loss: 0.0051\n",
      "Epoch 1/1\n",
      "0s - loss: 0.0051\n",
      "Epoch 1/1\n",
      "0s - loss: 0.0051\n",
      "Epoch 1/1\n",
      "0s - loss: 0.0051\n",
      "Epoch 1/1\n",
      "0s - loss: 0.0051\n",
      "Epoch 1/1\n",
      "0s - loss: 0.0050\n",
      "Epoch 1/1\n",
      "0s - loss: 0.0050\n",
      "Epoch 1/1\n",
      "0s - loss: 0.0050\n",
      "Epoch 1/1\n",
      "0s - loss: 0.0050\n",
      "Epoch 1/1\n",
      "0s - loss: 0.0049\n",
      "Epoch 1/1\n",
      "0s - loss: 0.0049\n",
      "Epoch 1/1\n",
      "0s - loss: 0.0049\n",
      "Epoch 1/1\n",
      "0s - loss: 0.0048\n",
      "Epoch 1/1\n",
      "0s - loss: 0.0048\n",
      "Epoch 1/1\n",
      "0s - loss: 0.0048\n",
      "Epoch 1/1\n",
      "0s - loss: 0.0047\n",
      "Epoch 1/1\n",
      "0s - loss: 0.0047\n",
      "Epoch 1/1\n",
      "0s - loss: 0.0046\n",
      "Epoch 1/1\n",
      "0s - loss: 0.0046\n",
      "Epoch 1/1\n",
      "0s - loss: 0.0045\n",
      "Epoch 1/1\n",
      "0s - loss: 0.0045\n",
      "Epoch 1/1\n",
      "0s - loss: 0.0044\n",
      "Epoch 1/1\n",
      "0s - loss: 0.0044\n",
      "Epoch 1/1\n",
      "0s - loss: 0.0043\n",
      "Epoch 1/1\n",
      "0s - loss: 0.0042\n",
      "Epoch 1/1\n",
      "0s - loss: 0.0042\n",
      "Epoch 1/1\n",
      "0s - loss: 0.0041\n",
      "Epoch 1/1\n",
      "0s - loss: 0.0041\n",
      "Epoch 1/1\n",
      "0s - loss: 0.0040\n",
      "Epoch 1/1\n",
      "0s - loss: 0.0039\n",
      "Epoch 1/1\n",
      "1s - loss: 0.0039\n",
      "Epoch 1/1\n",
      "0s - loss: 0.0038\n",
      "Epoch 1/1\n",
      "0s - loss: 0.0037\n",
      "Epoch 1/1\n",
      "0s - loss: 0.0037\n",
      "Epoch 1/1\n",
      "0s - loss: 0.0036\n",
      "Epoch 1/1\n",
      "0s - loss: 0.0036\n",
      "Epoch 1/1\n",
      "0s - loss: 0.0035\n",
      "Epoch 1/1\n",
      "0s - loss: 0.0034\n",
      "Epoch 1/1\n",
      "0s - loss: 0.0034\n",
      "Epoch 1/1\n",
      "0s - loss: 0.0033\n",
      "Epoch 1/1\n",
      "0s - loss: 0.0032\n",
      "Epoch 1/1\n",
      "0s - loss: 0.0031\n",
      "Epoch 1/1\n",
      "1s - loss: 0.0030\n",
      "Epoch 1/1\n",
      "1s - loss: 0.0029\n",
      "Epoch 1/1\n",
      "1s - loss: 0.0029\n",
      "Epoch 1/1\n",
      "1s - loss: 0.0028\n",
      "Epoch 1/1\n",
      "1s - loss: 0.0027\n",
      "Epoch 1/1\n",
      "1s - loss: 0.0026\n",
      "Epoch 1/1\n",
      "1s - loss: 0.0025\n",
      "Epoch 1/1\n",
      "1s - loss: 0.0025\n",
      "Epoch 1/1\n",
      "0s - loss: 0.0024\n",
      "Epoch 1/1\n",
      "0s - loss: 0.0023\n",
      "Epoch 1/1\n",
      "0s - loss: 0.0022\n",
      "Epoch 1/1\n",
      "1s - loss: 0.0022\n",
      "Epoch 1/1\n",
      "0s - loss: 0.0021\n",
      "Epoch 1/1\n",
      "0s - loss: 0.0021\n"
     ]
    }
   ],
   "source": [
    "for i in range(100):\n",
    "    model.fit(trainX, trainY, nb_epoch=1, batch_size=batch_size, verbose=2, shuffle=False)\n",
    "    model.reset_states()"
   ]
  },
  {
   "cell_type": "code",
   "execution_count": 20,
   "metadata": {
    "collapsed": false
   },
   "outputs": [
    {
     "name": "stdout",
     "output_type": "stream",
     "text": [
      "Train Score: 25.17 RMSE\n",
      "Test Score: 72.94 RMSE\n"
     ]
    }
   ],
   "source": [
    "# make predictions\n",
    "trainPredict = model.predict(trainX, batch_size=batch_size)\n",
    "model.reset_states()\n",
    "testPredict = model.predict(testX, batch_size=batch_size)\n",
    "# invert predictions\n",
    "trainPredict = scaler.inverse_transform(trainPredict)\n",
    "trainY = scaler.inverse_transform([trainY])\n",
    "testPredict = scaler.inverse_transform(testPredict)\n",
    "testY = scaler.inverse_transform([testY])\n",
    "# calculate root mean squared error\n",
    "trainScore = math.sqrt(mean_squared_error(trainY[0], trainPredict[:,0]))\n",
    "print('Train Score: %.2f RMSE' % (trainScore))\n",
    "testScore = math.sqrt(mean_squared_error(testY[0], testPredict[:,0]))\n",
    "print('Test Score: %.2f RMSE' % (testScore))"
   ]
  },
  {
   "cell_type": "markdown",
   "metadata": {},
   "source": [
    "The original dataset is blue, the predictions for the training dataset are green, and the predictions on the unseen test dataset are red."
   ]
  },
  {
   "cell_type": "code",
   "execution_count": 21,
   "metadata": {
    "collapsed": true
   },
   "outputs": [],
   "source": [
    "dataset = airline_normalized_np_array"
   ]
  },
  {
   "cell_type": "code",
   "execution_count": 22,
   "metadata": {
    "collapsed": false
   },
   "outputs": [
    {
     "data": {
      "image/png": "[encoded data removed]",
      "text/plain": [
       "<matplotlib.figure.Figure at 0x7ff1277764d0>"
      ]
     },
     "metadata": {},
     "output_type": "display_data"
    }
   ],
   "source": [
    "# shift train predictions for plotting\n",
    "trainPredictPlot = numpy.empty_like(dataset)\n",
    "trainPredictPlot[:, :] = numpy.nan\n",
    "trainPredictPlot[look_back:len(trainPredict)+look_back, :] = trainPredict\n",
    "# shift test predictions for plotting\n",
    "testPredictPlot = numpy.empty_like(dataset)\n",
    "testPredictPlot[:, :] = numpy.nan\n",
    "testPredictPlot[len(trainPredict)+(look_back*2)+1:len(dataset)-1, :] = testPredict\n",
    "# plot baseline and predictions\n",
    "plt.plot(scaler.inverse_transform(dataset))\n",
    "plt.plot(trainPredictPlot)\n",
    "plt.plot(testPredictPlot)\n",
    "plt.show()"
   ]
  },
  {
   "cell_type": "code",
   "execution_count": 23,
   "metadata": {
    "collapsed": false
   },
   "outputs": [
    {
     "data": {
      "text/plain": [
       "array([[          nan],\n",
       "       [          nan],\n",
       "       [          nan],\n",
       "       [ 111.54598999],\n",
       "       [ 109.80053711],\n",
       "       [ 109.78503418],\n",
       "       [ 114.74468231],\n",
       "       [ 124.30093384],\n",
       "       [ 135.12600708],\n",
       "       [ 139.60900879]], dtype=float32)"
      ]
     },
     "execution_count": 23,
     "metadata": {},
     "output_type": "execute_result"
    }
   ],
   "source": [
    "trainPredictPlot[:10]"
   ]
  },
  {
   "cell_type": "code",
   "execution_count": 24,
   "metadata": {
    "collapsed": false
   },
   "outputs": [
    {
     "data": {
      "text/plain": [
       "array([[ 112.],\n",
       "       [ 118.],\n",
       "       [ 132.],\n",
       "       [ 129.],\n",
       "       [ 121.],\n",
       "       [ 135.],\n",
       "       [ 148.],\n",
       "       [ 148.],\n",
       "       [ 136.],\n",
       "       [ 119.]], dtype=float32)"
      ]
     },
     "execution_count": 24,
     "metadata": {},
     "output_type": "execute_result"
    }
   ],
   "source": [
    "scaler.inverse_transform(dataset)[:10]"
   ]
  },
  {
   "cell_type": "code",
   "execution_count": null,
   "metadata": {
    "collapsed": true
   },
   "outputs": [],
   "source": []
  }
 ],
 "metadata": {
  "kernelspec": {
   "display_name": "Python 2",
   "language": "python",
   "name": "python2"
  },
  "language_info": {
   "codemirror_mode": {
    "name": "ipython",
    "version": 2
   },
   "file_extension": ".py",
   "mimetype": "text/x-python",
   "name": "python",
   "nbconvert_exporter": "python",
   "pygments_lexer": "ipython2",
   "version": "2.7.13"
  }
 },
 "nbformat": 4,
 "nbformat_minor": 2
}
